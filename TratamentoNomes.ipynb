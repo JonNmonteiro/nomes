{
  "nbformat": 4,
  "nbformat_minor": 0,
  "metadata": {
    "colab": {
      "name": "TratamentoNomes.ipynb",
      "provenance": [],
      "collapsed_sections": [],
      "authorship_tag": "ABX9TyMoSvPfLM4F1t39bwjPrCx1",
      "include_colab_link": true
    },
    "kernelspec": {
      "name": "python3",
      "display_name": "Python 3"
    }
  },
  "cells": [
    {
      "cell_type": "markdown",
      "metadata": {
        "id": "view-in-github",
        "colab_type": "text"
      },
      "source": [
        "<a href=\"https://colab.research.google.com/github/JonNmonteiro/nomes/blob/master/TratamentoNomes.ipynb\" target=\"_parent\"><img src=\"https://colab.research.google.com/assets/colab-badge.svg\" alt=\"Open In Colab\"/></a>"
      ]
    },
    {
      "cell_type": "code",
      "metadata": {
        "id": "GduB3Ki056L-",
        "colab_type": "code",
        "colab": {}
      },
      "source": [
        ""
      ],
      "execution_count": 0,
      "outputs": []
    },
    {
      "cell_type": "markdown",
      "metadata": {
        "id": "246U1IYB6yPD",
        "colab_type": "text"
      },
      "source": [
        "1 - Carregar os dados dos Arquivos de nomes do IBGE e explorar o data set\n"
      ]
    },
    {
      "cell_type": "code",
      "metadata": {
        "id": "P5VuCtF66_IZ",
        "colab_type": "code",
        "colab": {
          "base_uri": "https://localhost:8080/",
          "height": 224
        },
        "outputId": "73ebdaf0-aa4e-4d60-8f12-feb18005f9da"
      },
      "source": [
        "import pandas as pd \n",
        "data = pd.read_csv('https://raw.githubusercontent.com/JonNmonteiro/nomes/master/nomes-censos-ibge.csv', sep=',', encoding='utf-8', error_bad_lines=False)\n",
        "data.head()"
      ],
      "execution_count": 14,
      "outputs": [
        {
          "output_type": "execute_result",
          "data": {
            "text/html": [
              "<div>\n",
              "<style scoped>\n",
              "    .dataframe tbody tr th:only-of-type {\n",
              "        vertical-align: middle;\n",
              "    }\n",
              "\n",
              "    .dataframe tbody tr th {\n",
              "        vertical-align: top;\n",
              "    }\n",
              "\n",
              "    .dataframe thead th {\n",
              "        text-align: right;\n",
              "    }\n",
              "</style>\n",
              "<table border=\"1\" class=\"dataframe\">\n",
              "  <thead>\n",
              "    <tr style=\"text-align: right;\">\n",
              "      <th></th>\n",
              "      <th>Nome</th>\n",
              "      <th>ate1930</th>\n",
              "      <th>ate1940</th>\n",
              "      <th>ate1950</th>\n",
              "      <th>ate1960</th>\n",
              "      <th>ate1970</th>\n",
              "      <th>ate1980</th>\n",
              "      <th>ate1990</th>\n",
              "      <th>ate2000</th>\n",
              "      <th>ate2010</th>\n",
              "    </tr>\n",
              "  </thead>\n",
              "  <tbody>\n",
              "    <tr>\n",
              "      <th>0</th>\n",
              "      <td>MARIA</td>\n",
              "      <td>336477.0</td>\n",
              "      <td>749053.0</td>\n",
              "      <td>1487042.0</td>\n",
              "      <td>2476482.0</td>\n",
              "      <td>2495491.0</td>\n",
              "      <td>1616019.0</td>\n",
              "      <td>917968.0</td>\n",
              "      <td>544296.0</td>\n",
              "      <td>1111301.0</td>\n",
              "    </tr>\n",
              "    <tr>\n",
              "      <th>1</th>\n",
              "      <td>ANA</td>\n",
              "      <td>33395.0</td>\n",
              "      <td>56160.0</td>\n",
              "      <td>101259.0</td>\n",
              "      <td>183941.0</td>\n",
              "      <td>292835.0</td>\n",
              "      <td>421531.0</td>\n",
              "      <td>529266.0</td>\n",
              "      <td>536302.0</td>\n",
              "      <td>935169.0</td>\n",
              "    </tr>\n",
              "    <tr>\n",
              "      <th>2</th>\n",
              "      <td>JOAO</td>\n",
              "      <td>60155.0</td>\n",
              "      <td>141772.0</td>\n",
              "      <td>256001.0</td>\n",
              "      <td>396438.0</td>\n",
              "      <td>429148.0</td>\n",
              "      <td>279975.0</td>\n",
              "      <td>273960.0</td>\n",
              "      <td>352552.0</td>\n",
              "      <td>794118.0</td>\n",
              "    </tr>\n",
              "    <tr>\n",
              "      <th>3</th>\n",
              "      <td>GABRIEL</td>\n",
              "      <td>1267.0</td>\n",
              "      <td>2744.0</td>\n",
              "      <td>4256.0</td>\n",
              "      <td>6095.0</td>\n",
              "      <td>6559.0</td>\n",
              "      <td>9103.0</td>\n",
              "      <td>46996.0</td>\n",
              "      <td>271405.0</td>\n",
              "      <td>584024.0</td>\n",
              "    </tr>\n",
              "    <tr>\n",
              "      <th>4</th>\n",
              "      <td>LUCAS</td>\n",
              "      <td>388.0</td>\n",
              "      <td>937.0</td>\n",
              "      <td>1593.0</td>\n",
              "      <td>2787.0</td>\n",
              "      <td>4425.0</td>\n",
              "      <td>9954.0</td>\n",
              "      <td>84484.0</td>\n",
              "      <td>517436.0</td>\n",
              "      <td>505306.0</td>\n",
              "    </tr>\n",
              "  </tbody>\n",
              "</table>\n",
              "</div>"
            ],
            "text/plain": [
              "      Nome   ate1930   ate1940  ...   ate1990   ate2000    ate2010\n",
              "0    MARIA  336477.0  749053.0  ...  917968.0  544296.0  1111301.0\n",
              "1      ANA   33395.0   56160.0  ...  529266.0  536302.0   935169.0\n",
              "2     JOAO   60155.0  141772.0  ...  273960.0  352552.0   794118.0\n",
              "3  GABRIEL    1267.0    2744.0  ...   46996.0  271405.0   584024.0\n",
              "4    LUCAS     388.0     937.0  ...   84484.0  517436.0   505306.0\n",
              "\n",
              "[5 rows x 10 columns]"
            ]
          },
          "metadata": {
            "tags": []
          },
          "execution_count": 14
        }
      ]
    },
    {
      "cell_type": "code",
      "metadata": {
        "id": "hYSkrP0x732p",
        "colab_type": "code",
        "colab": {
          "base_uri": "https://localhost:8080/",
          "height": 224
        },
        "outputId": "32ce9c0b-5681-4c7f-cd10-43abe2648452"
      },
      "source": [
        "data.tail()"
      ],
      "execution_count": 15,
      "outputs": [
        {
          "output_type": "execute_result",
          "data": {
            "text/html": [
              "<div>\n",
              "<style scoped>\n",
              "    .dataframe tbody tr th:only-of-type {\n",
              "        vertical-align: middle;\n",
              "    }\n",
              "\n",
              "    .dataframe tbody tr th {\n",
              "        vertical-align: top;\n",
              "    }\n",
              "\n",
              "    .dataframe thead th {\n",
              "        text-align: right;\n",
              "    }\n",
              "</style>\n",
              "<table border=\"1\" class=\"dataframe\">\n",
              "  <thead>\n",
              "    <tr style=\"text-align: right;\">\n",
              "      <th></th>\n",
              "      <th>Nome</th>\n",
              "      <th>ate1930</th>\n",
              "      <th>ate1940</th>\n",
              "      <th>ate1950</th>\n",
              "      <th>ate1960</th>\n",
              "      <th>ate1970</th>\n",
              "      <th>ate1980</th>\n",
              "      <th>ate1990</th>\n",
              "      <th>ate2000</th>\n",
              "      <th>ate2010</th>\n",
              "    </tr>\n",
              "  </thead>\n",
              "  <tbody>\n",
              "    <tr>\n",
              "      <th>64454</th>\n",
              "      <td>FUJIE</td>\n",
              "      <td>20.0</td>\n",
              "      <td>NaN</td>\n",
              "      <td>NaN</td>\n",
              "      <td>NaN</td>\n",
              "      <td>NaN</td>\n",
              "      <td>NaN</td>\n",
              "      <td>NaN</td>\n",
              "      <td>NaN</td>\n",
              "      <td>NaN</td>\n",
              "    </tr>\n",
              "    <tr>\n",
              "      <th>64455</th>\n",
              "      <td>GIUSEPINA</td>\n",
              "      <td>20.0</td>\n",
              "      <td>NaN</td>\n",
              "      <td>NaN</td>\n",
              "      <td>NaN</td>\n",
              "      <td>NaN</td>\n",
              "      <td>NaN</td>\n",
              "      <td>NaN</td>\n",
              "      <td>NaN</td>\n",
              "      <td>NaN</td>\n",
              "    </tr>\n",
              "    <tr>\n",
              "      <th>64456</th>\n",
              "      <td>NELLO</td>\n",
              "      <td>20.0</td>\n",
              "      <td>NaN</td>\n",
              "      <td>NaN</td>\n",
              "      <td>NaN</td>\n",
              "      <td>NaN</td>\n",
              "      <td>NaN</td>\n",
              "      <td>NaN</td>\n",
              "      <td>NaN</td>\n",
              "      <td>NaN</td>\n",
              "    </tr>\n",
              "    <tr>\n",
              "      <th>64457</th>\n",
              "      <td>SYLLA</td>\n",
              "      <td>20.0</td>\n",
              "      <td>NaN</td>\n",
              "      <td>NaN</td>\n",
              "      <td>NaN</td>\n",
              "      <td>NaN</td>\n",
              "      <td>NaN</td>\n",
              "      <td>NaN</td>\n",
              "      <td>NaN</td>\n",
              "      <td>NaN</td>\n",
              "    </tr>\n",
              "    <tr>\n",
              "      <th>64458</th>\n",
              "      <td>VENOZINA</td>\n",
              "      <td>20.0</td>\n",
              "      <td>NaN</td>\n",
              "      <td>NaN</td>\n",
              "      <td>NaN</td>\n",
              "      <td>NaN</td>\n",
              "      <td>NaN</td>\n",
              "      <td>NaN</td>\n",
              "      <td>NaN</td>\n",
              "      <td>NaN</td>\n",
              "    </tr>\n",
              "  </tbody>\n",
              "</table>\n",
              "</div>"
            ],
            "text/plain": [
              "            Nome  ate1930  ate1940  ate1950  ...  ate1980  ate1990  ate2000  ate2010\n",
              "64454      FUJIE     20.0      NaN      NaN  ...      NaN      NaN      NaN      NaN\n",
              "64455  GIUSEPINA     20.0      NaN      NaN  ...      NaN      NaN      NaN      NaN\n",
              "64456      NELLO     20.0      NaN      NaN  ...      NaN      NaN      NaN      NaN\n",
              "64457      SYLLA     20.0      NaN      NaN  ...      NaN      NaN      NaN      NaN\n",
              "64458   VENOZINA     20.0      NaN      NaN  ...      NaN      NaN      NaN      NaN\n",
              "\n",
              "[5 rows x 10 columns]"
            ]
          },
          "metadata": {
            "tags": []
          },
          "execution_count": 15
        }
      ]
    },
    {
      "cell_type": "code",
      "metadata": {
        "id": "MhjmgSMXCO-g",
        "colab_type": "code",
        "colab": {}
      },
      "source": [
        ""
      ],
      "execution_count": 0,
      "outputs": []
    },
    {
      "cell_type": "code",
      "metadata": {
        "id": "jPcKosQq_DxN",
        "colab_type": "code",
        "colab": {}
      },
      "source": [
        "NomesValidos = data['Nome']\n",
        "nome_10000 = data['ate2010'] >= 10000\n",
        "NovaData = data[nome_10000]\n",
        "#NovaData['Nome', 'ate2010']\n",
        "NovaData = NovaData[['Nome', 'ate2010']]\n",
        "\n",
        "\n"
      ],
      "execution_count": 0,
      "outputs": []
    },
    {
      "cell_type": "code",
      "metadata": {
        "id": "opVVZ5xrPnPJ",
        "colab_type": "code",
        "colab": {
          "base_uri": "https://localhost:8080/",
          "height": 319
        },
        "outputId": "f8a8490f-6aa6-48aa-c04f-06fa11c7f94b"
      },
      "source": [
        "import matplotlib.pyplot as plt\n",
        "NovaData = NovaData.nlargest(10, 'ate2010')\n",
        "#plt.plot(NovaData['Nome'], NovaData['ate2010'])\n",
        "plt.title('Top 10 de Nomes até 2010')\n",
        "plt.bar(NovaData['Nome'], NovaData['ate2010'])\n",
        "plt.xticks(NovaData['Nome'], rotation='vertical')\n",
        "plt.show()\n",
        "#NovaData.nlargest(10, 'ate2010').plot(kind='bar', )"
      ],
      "execution_count": 89,
      "outputs": [
        {
          "output_type": "display_data",
          "data": {
            "image/png": "[encoded data removed]",
            "text/plain": [
              "<Figure size 432x288 with 1 Axes>"
            ]
          },
          "metadata": {
            "tags": [],
            "needs_background": "light"
          }
        }
      ]
    },
    {
      "cell_type": "code",
      "metadata": {
        "id": "Lu7YkEjnPy47",
        "colab_type": "code",
        "colab": {}
      },
      "source": [
        ""
      ],
      "execution_count": 0,
      "outputs": []
    }
  ]
}